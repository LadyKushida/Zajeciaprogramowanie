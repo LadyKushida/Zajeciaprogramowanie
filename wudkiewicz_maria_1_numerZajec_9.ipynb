{
  "nbformat": 4,
  "nbformat_minor": 0,
  "metadata": {
    "colab": {
      "provenance": []
    },
    "kernelspec": {
      "name": "python3",
      "display_name": "Python 3"
    },
    "language_info": {
      "name": "python"
    }
  },
  "cells": [
    {
      "cell_type": "code",
      "execution_count": 12,
      "metadata": {
        "id": "mfVXnRY0xBr9",
        "colab": {
          "base_uri": "https://localhost:8080/"
        },
        "outputId": "132e5877-8b94-43ec-974d-f245f37990a7"
      },
      "outputs": [
        {
          "output_type": "stream",
          "name": "stdout",
          "text": [
            "['Mickiewicz, Adam']\n",
            "['Hubar, Patryk']\n",
            "['22 stycznia 1877']\n",
            "['7 czerwca 1993']\n",
            "['789456123']\n",
            "['123-456-789']\n"
          ]
        }
      ],
      "source": [
        "tekst1 = \"Imię i nazwisko: Hubar, Patryk. Data urodzenia: 7 czerwca 1993. Numer telefonu: 123-456-789\"\n",
        "tekst2 = \"Imię i nazwisko: Mickiewicz, Adam. Data urodzenia: 22 stycznia 1877. Numer telefonu: 789456123\"\n",
        "\n",
        "\n",
        "import regex as re\n",
        "text4 = re.findall(\"[A-Z][a-z]+,\\s[A-Z][a-z]+\", tekst1)\n",
        "text3 = re.findall(\"[A-Z][a-z]+,\\s[A-Z][a-z]+\", tekst2)\n",
        "\n",
        "print(text3)\n",
        "print(text4)\n",
        "\n",
        "text4 = re.findall(\"\\d+\\s\\w+\\s\\d+|\\d{1,2}\\s[A-Za-z]+\\s\\d+\", tekst1)\n",
        "text3 = re.findall(\"\\d+\\s\\w+\\s\\d+|\\d{1,2}\\s[A-Za-z]+\\s\\d+\", tekst2)\n",
        "\n",
        "print(text3)\n",
        "print(text4)\n",
        "\n",
        "text4 = re.findall(\"\\s\\d+\\d{3}\\s\\d{3}\\s\\d{3}|\\d{9}|\\d{3}-\\d{3}-\\d{3}\", tekst1)\n",
        "text3 = re.findall(\"\\s\\d+\\d{3}\\s\\d{3}\\s\\d{3}|\\d{9}|\\d{3}-\\d{3}-\\d{3}\", tekst2)\n",
        "\n",
        "print(text3)\n",
        "print(text4)"
      ]
    }
  ]
}