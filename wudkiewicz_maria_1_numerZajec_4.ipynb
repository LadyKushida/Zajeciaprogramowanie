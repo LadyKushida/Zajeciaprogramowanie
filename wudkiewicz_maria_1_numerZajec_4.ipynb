{
  "nbformat": 4,
  "nbformat_minor": 0,
  "metadata": {
    "colab": {
      "provenance": []
    },
    "kernelspec": {
      "name": "python3",
      "display_name": "Python 3"
    },
    "language_info": {
      "name": "python"
    }
  },
  "cells": [
    {
      "cell_type": "code",
      "execution_count": null,
      "metadata": {
        "colab": {
          "base_uri": "https://localhost:8080/"
        },
        "id": "U_IdAOhZfEFr",
        "outputId": "168ad9d0-ca1a-4f21-d500-8fe1b448b9d2"
      },
      "outputs": [
        {
          "output_type": "stream",
          "name": "stdout",
          "text": [
            "\n",
            "1\n",
            "12\n",
            "123\n",
            "1234\n",
            "12345\n",
            "123456\n",
            "1234567\n",
            "12345678\n"
          ]
        }
      ],
      "source": [
        "n = 9\n",
        "\n",
        "napis = (\"\")\n",
        "for liczba in range(n):\n",
        "  liczba = str(liczba)\n",
        "  napis = napis + liczba\n",
        "  napis = napis.replace (\"0\",\"\")\n",
        "  print (napis)"
      ]
    },
    {
      "cell_type": "code",
      "source": [
        "n = 5\n",
        "napis = \"\"\n",
        "\n",
        "for liczba in range(n):\n",
        "  napis += \"*\"\n",
        "  print(napis)\n",
        "\n",
        "for liczba in range(n, 0, -1):\n",
        "  napis = napis[:-1]\n",
        "  print(napis)"
      ],
      "metadata": {
        "colab": {
          "base_uri": "https://localhost:8080/"
        },
        "id": "mzcZXgQ7giJz",
        "outputId": "2e8a8496-c2da-4b04-faf4-d1a0232b9569"
      },
      "execution_count": null,
      "outputs": [
        {
          "output_type": "stream",
          "name": "stdout",
          "text": [
            "*\n",
            "**\n",
            "***\n",
            "****\n",
            "*****\n",
            "****\n",
            "***\n",
            "**\n",
            "*\n",
            "\n"
          ]
        }
      ]
    },
    {
      "cell_type": "code",
      "source": [
        "lista_liczby = [6, 2, 3, 7, 1, 12, 56, 99]\n",
        "lista_liczby = int(lista_liczby)\n",
        "for n in range(len(lista_liczby)):\n",
        "    if lista_liczby / 2 == True:\n",
        "        lista_liczby.replace = \"pomocy\"\n",
        "\n",
        "print(lista_liczby)"
      ],
      "metadata": {
        "colab": {
          "base_uri": "https://localhost:8080/",
          "height": 246
        },
        "id": "OHVaUzflsyC2",
        "outputId": "e5327296-20b6-4d01-c4e1-1afe2190e6d2"
      },
      "execution_count": 4,
      "outputs": [
        {
          "output_type": "error",
          "ename": "TypeError",
          "evalue": "ignored",
          "traceback": [
            "\u001b[0;31m---------------------------------------------------------------------------\u001b[0m",
            "\u001b[0;31mTypeError\u001b[0m                                 Traceback (most recent call last)",
            "\u001b[0;32m<ipython-input-4-e20d6557deac>\u001b[0m in \u001b[0;36m<cell line: 2>\u001b[0;34m()\u001b[0m\n\u001b[1;32m      1\u001b[0m \u001b[0mlista_liczby\u001b[0m \u001b[0;34m=\u001b[0m \u001b[0;34m[\u001b[0m\u001b[0;36m6\u001b[0m\u001b[0;34m,\u001b[0m \u001b[0;36m2\u001b[0m\u001b[0;34m,\u001b[0m \u001b[0;36m3\u001b[0m\u001b[0;34m,\u001b[0m \u001b[0;36m7\u001b[0m\u001b[0;34m,\u001b[0m \u001b[0;36m1\u001b[0m\u001b[0;34m,\u001b[0m \u001b[0;36m12\u001b[0m\u001b[0;34m,\u001b[0m \u001b[0;36m56\u001b[0m\u001b[0;34m,\u001b[0m \u001b[0;36m99\u001b[0m\u001b[0;34m]\u001b[0m\u001b[0;34m\u001b[0m\u001b[0;34m\u001b[0m\u001b[0m\n\u001b[0;32m----> 2\u001b[0;31m \u001b[0mlista_liczby\u001b[0m \u001b[0;34m=\u001b[0m \u001b[0mint\u001b[0m\u001b[0;34m(\u001b[0m\u001b[0mlista_liczby\u001b[0m\u001b[0;34m)\u001b[0m\u001b[0;34m\u001b[0m\u001b[0;34m\u001b[0m\u001b[0m\n\u001b[0m\u001b[1;32m      3\u001b[0m \u001b[0;32mfor\u001b[0m \u001b[0mn\u001b[0m \u001b[0;32min\u001b[0m \u001b[0mrange\u001b[0m\u001b[0;34m(\u001b[0m\u001b[0mlen\u001b[0m\u001b[0;34m(\u001b[0m\u001b[0mlista_liczby\u001b[0m\u001b[0;34m)\u001b[0m\u001b[0;34m)\u001b[0m\u001b[0;34m:\u001b[0m\u001b[0;34m\u001b[0m\u001b[0;34m\u001b[0m\u001b[0m\n\u001b[1;32m      4\u001b[0m     \u001b[0;32mif\u001b[0m \u001b[0mlista_liczby\u001b[0m \u001b[0;34m/\u001b[0m \u001b[0;36m2\u001b[0m \u001b[0;34m==\u001b[0m \u001b[0;32mTrue\u001b[0m\u001b[0;34m:\u001b[0m\u001b[0;34m\u001b[0m\u001b[0;34m\u001b[0m\u001b[0m\n\u001b[1;32m      5\u001b[0m         \u001b[0mlista_liczby\u001b[0m\u001b[0;34m.\u001b[0m\u001b[0mreplace\u001b[0m \u001b[0;34m=\u001b[0m \u001b[0;34m\"pomocy\"\u001b[0m\u001b[0;34m\u001b[0m\u001b[0;34m\u001b[0m\u001b[0m\n",
            "\u001b[0;31mTypeError\u001b[0m: int() argument must be a string, a bytes-like object or a real number, not 'list'"
          ]
        }
      ]
    },
    {
      "cell_type": "code",
      "source": [
        "liczby = [6, 2, 3, 7, 1, 12, 56, 99]\n",
        "\n",
        "najmniejsza_wartosc = min(liczby)\n",
        "print(\"Najmniejsza wartość w liście:\", najmniejsza_wartosc)"
      ],
      "metadata": {
        "id": "M5_jkqQw6hna",
        "outputId": "00996a1e-de97-431d-c84a-bc66a6311f95",
        "colab": {
          "base_uri": "https://localhost:8080/"
        }
      },
      "execution_count": null,
      "outputs": [
        {
          "output_type": "stream",
          "name": "stdout",
          "text": [
            "Najmniejsza wartość w liście: 1\n"
          ]
        }
      ]
    }
  ]
}