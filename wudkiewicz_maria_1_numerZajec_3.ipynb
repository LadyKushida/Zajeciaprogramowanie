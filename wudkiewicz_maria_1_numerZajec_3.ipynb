{
  "nbformat": 4,
  "nbformat_minor": 0,
  "metadata": {
    "colab": {
      "provenance": []
    },
    "kernelspec": {
      "name": "python3",
      "display_name": "Python 3"
    },
    "language_info": {
      "name": "python"
    }
  },
  "cells": [
    {
      "cell_type": "code",
      "execution_count": 50,
      "metadata": {
        "id": "e_ec7bdXQjs2",
        "colab": {
          "base_uri": "https://localhost:8080/"
        },
        "outputId": "79adc56a-d89a-4521-9899-2e8dacc21916"
      },
      "outputs": [
        {
          "output_type": "stream",
          "name": "stdout",
          "text": [
            "Jak masz na imię? Marysia\n",
            "Jak masz na nazwisko? Wudkiewicz\n",
            "Ile masz lat? 22\n",
            "Ustaw swoje hasło: hasło\n",
            "Powtórz hasło: hasło\n",
            "Jaki jest Twój numer telefonu? 252525252\n",
            "Dziękuję za wypełnienie formularza! \n",
            "Imię:  Marysia\n",
            "Nazwisko:  Wudkiewicz\n",
            "Wiek:  22\n",
            "Hasło:  hasło\n",
            "Powtórzenie hasła:  hasło\n",
            "Numer telefonu 252525252\n"
          ]
        }
      ],
      "source": [
        "#Formularz kontaktowy\n",
        "imie = input (\"Jak masz na imię? \")\n",
        "\n",
        "nazwisko = input (\"Jak masz na nazwisko? \")\n",
        "\n",
        "wiek = input (\"Ile masz lat? \")\n",
        "\n",
        "hasło = input (\"Ustaw swoje hasło: \")\n",
        "\n",
        "hasło2 = input (\"Powtórz hasło: \")\n",
        "if hasło != hasło2:\n",
        "  print(\"Wprowadzone hasła się różnią!\")\n",
        "\n",
        "nr_tel = input (\"Jaki jest Twój numer telefonu? \")\n",
        "\n",
        "if nr_tel [3 or 6] == \"-\" or \" \":\n",
        "  nr_tel = nr_tel.replace (\"-\",\"\",2)\n",
        "  nr_tel = nr_tel.replace (\" \",\"\",2)\n",
        "  print(\"Dziękuję za wypełnienie formularza! \")\n",
        "else:\n",
        "  print(\"Podaj poprawny numer telefonu\")\n",
        "\n",
        "if len(nr_tel) > 9:\n",
        "  print(\"Podaj prawidłowy numer telefonu! (Bez numeru kierunkowego)\")\n",
        "\n",
        "print (\"Imię: \", imie)\n",
        "print (\"Nazwisko: \", nazwisko)\n",
        "print (\"Wiek: \", wiek)\n",
        "print (\"Hasło: \", hasło)\n",
        "print (\"Powtórzenie hasła: \", hasło2)\n",
        "print (\"Numer telefonu\", nr_tel)"
      ]
    },
    {
      "cell_type": "code",
      "source": [
        "#Kalkulator\n",
        "\n",
        "pierwsza_liczba = int(input(\"Podaj pierwszą liczbę: \"))\n",
        "\n",
        "druga_liczba = int(input(\"Podaj drugą liczbę: \"))\n",
        "\n",
        "działanie = input(\"\"\"Jakie działanie chcesz wykonać?\n",
        "+ (dodawanie)\n",
        "- (odejmowanie)\n",
        "* (mnożenie)\n",
        "/ (dzielenie)\n",
        "% (dzielenie z resztą)\n",
        "** (potęgowanie)\n",
        "\"\"\")\n",
        "\n",
        "if działanie == '+':\n",
        "  print(\"Wynik dodawania: \", pierwsza_liczba + druga_liczba)\n",
        "elif działanie == '-':\n",
        "  print(\"Wynik odejmowania: \", pierwsza_liczba - druga_liczba)\n",
        "elif działanie == '*':\n",
        "  print(\"Wynik mnożenia: \", pierwsza_liczba * druga_liczba)\n",
        "elif działanie == '/':\n",
        "  if druga_liczba == 0:\n",
        "    print(\"Nie można dzielić przez 0!\")\n",
        "  else:\n",
        "    print(\"Wynik dzielenia: \", pierwsza_liczba / druga_liczba)\n",
        "elif działanie == '%':\n",
        "  print(\"Wynik dzielenia z resztą: \", pierwsza_liczba % druga_liczba)\n",
        "elif działanie == '**':\n",
        "  print(\"Wynik potęgowania: \", pierwsza_liczba ** druga_liczba)\n",
        "else:\n",
        "  print(\"Wybierz poprawne działanie!\")"
      ],
      "metadata": {
        "id": "PrKHv6EcRqIp",
        "colab": {
          "base_uri": "https://localhost:8080/"
        },
        "outputId": "375a7c0b-b8bd-4370-9887-f02ba827ee24"
      },
      "execution_count": 47,
      "outputs": [
        {
          "output_type": "stream",
          "name": "stdout",
          "text": [
            "Podaj pierwszą liczbę: 1\n",
            "Podaj drugą liczbę: 0\n",
            "Jakie działanie chcesz wykonać? \n",
            "+ (dodawanie)\n",
            "- (odejmowanie)\n",
            "* (mnożenie)\n",
            "/ (dzielenie)\n",
            "% (dzielenie z resztą)\n",
            "** (potęgowanie)\n",
            "/\n",
            "Nie można dzielić przez 0!\n"
          ]
        }
      ]
    },
    {
      "cell_type": "code",
      "source": [],
      "metadata": {
        "id": "jZDGynfdMARs"
      },
      "execution_count": null,
      "outputs": []
    }
  ]
}