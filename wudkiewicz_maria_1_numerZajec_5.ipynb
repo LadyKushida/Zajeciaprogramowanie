import pandas as pd

df_titanic = pd.read_csv("/content/train.csv")
df_titanic
