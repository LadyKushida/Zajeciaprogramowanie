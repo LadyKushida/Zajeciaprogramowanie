{
  "nbformat": 4,
  "nbformat_minor": 0,
  "metadata": {
    "colab": {
      "provenance": []
    },
    "kernelspec": {
      "name": "python3",
      "display_name": "Python 3"
    },
    "language_info": {
      "name": "python"
    }
  },
  "cells": [
    {
      "cell_type": "code",
      "execution_count": null,
      "metadata": {
        "colab": {
          "base_uri": "https://localhost:8080/",
          "height": 36
        },
        "id": "ZAtimMP7LIMY",
        "outputId": "9938d52d-3047-4048-fcbf-879cd784e231"
      },
      "outputs": [
        {
          "output_type": "execute_result",
          "data": {
            "text/plain": [
              "'ęcia z pro'"
            ],
            "application/vnd.google.colaboratory.intrinsic+json": {
              "type": "string"
            }
          },
          "metadata": {},
          "execution_count": 5
        }
      ],
      "source": [
        "zmienna_pierwsza = \"Uwielbiam zajęcia z programowania\"\n",
        "zmienna_pierwsza [13:23]"
      ]
    },
    {
      "cell_type": "code",
      "source": [
        "print (zmienna_pierwsza [-40:])"
      ],
      "metadata": {
        "colab": {
          "base_uri": "https://localhost:8080/"
        },
        "id": "lM2kSXfXL_Sa",
        "outputId": "6dccd220-0b55-4bea-d681-d5fb92af5552"
      },
      "execution_count": null,
      "outputs": [
        {
          "output_type": "stream",
          "name": "stdout",
          "text": [
            "Uwielbiam zajęcia z programowania\n"
          ]
        }
      ]
    },
    {
      "cell_type": "code",
      "source": [
        "print (zmienna_pierwsza [1:40:3])"
      ],
      "metadata": {
        "colab": {
          "base_uri": "https://localhost:8080/"
        },
        "id": "-9N-Hz2mMd4g",
        "outputId": "71367983-6fcd-45f7-ad03-d0b8a7596449"
      },
      "execution_count": null,
      "outputs": [
        {
          "output_type": "stream",
          "name": "stdout",
          "text": [
            "wlazęa oawi\n"
          ]
        }
      ]
    },
    {
      "cell_type": "code",
      "source": [
        "zmienna_druga = \"Czarny to mój ulubiony kolor, niestety, kolor czarny szybko spiera się z moich ubrań\""
      ],
      "metadata": {
        "id": "URDQ-GBbMnNc"
      },
      "execution_count": null,
      "outputs": []
    },
    {
      "cell_type": "code",
      "source": [
        "zmienna_druga.istitle()"
      ],
      "metadata": {
        "colab": {
          "base_uri": "https://localhost:8080/"
        },
        "id": "Z_V5_uZwNTd4",
        "outputId": "32f4b449-a8ba-4a0d-cd09-5147dd14d878"
      },
      "execution_count": null,
      "outputs": [
        {
          "output_type": "execute_result",
          "data": {
            "text/plain": [
              "False"
            ]
          },
          "metadata": {},
          "execution_count": 14
        }
      ]
    },
    {
      "cell_type": "code",
      "source": [
        "zmienna_druga.startswith (\"C\")"
      ],
      "metadata": {
        "colab": {
          "base_uri": "https://localhost:8080/"
        },
        "id": "-7Q8Zp0WNunf",
        "outputId": "32b21f40-a228-46af-9882-c71572ab6e85"
      },
      "execution_count": null,
      "outputs": [
        {
          "output_type": "execute_result",
          "data": {
            "text/plain": [
              "True"
            ]
          },
          "metadata": {},
          "execution_count": 15
        }
      ]
    },
    {
      "cell_type": "code",
      "source": [
        "zmienna_druga = zmienna_druga.lower()\n",
        "zmienna_druga = zmienna_druga.replace (\"czarny\", \"biały\")\n",
        "zmienna_druga = zmienna_druga.capitalize()\n",
        "print (zmienna_druga)"
      ],
      "metadata": {
        "colab": {
          "base_uri": "https://localhost:8080/"
        },
        "id": "mQtXXJF9N8Or",
        "outputId": "c52b211e-9c7a-45b4-8b0f-35f737349c26"
      },
      "execution_count": null,
      "outputs": [
        {
          "output_type": "stream",
          "name": "stdout",
          "text": [
            "Biały to mój ulubiony kolor, niestety, kolor biały szybko spiera się z moich ubrań\n"
          ]
        }
      ]
    }
  ]
}