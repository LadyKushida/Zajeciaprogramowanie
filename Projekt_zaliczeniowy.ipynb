{
  "nbformat": 4,
  "nbformat_minor": 0,
  "metadata": {
    "colab": {
      "provenance": []
    },
    "kernelspec": {
      "name": "python3",
      "display_name": "Python 3"
    },
    "language_info": {
      "name": "python"
    }
  },
  "cells": [
    {
      "cell_type": "code",
      "execution_count": null,
      "metadata": {
        "id": "okgiXw46px7H"
      },
      "outputs": [],
      "source": [
        "import pandas as pd\n",
        "import re\n",
        "import spacy as sp\n",
        "import matplotlib.pyplot as plt"
      ]
    },
    {
      "cell_type": "code",
      "source": [
        "!python -m spacy download pl_core_news_sm"
      ],
      "metadata": {
        "colab": {
          "base_uri": "https://localhost:8080/"
        },
        "id": "udkVt8Lq5HrA",
        "outputId": "afbeed28-885f-4f3d-8df5-606fac81e495"
      },
      "execution_count": null,
      "outputs": [
        {
          "output_type": "stream",
          "name": "stdout",
          "text": [
            "2024-01-28 21:36:15.363360: E external/local_xla/xla/stream_executor/cuda/cuda_dnn.cc:9261] Unable to register cuDNN factory: Attempting to register factory for plugin cuDNN when one has already been registered\n",
            "2024-01-28 21:36:15.363442: E external/local_xla/xla/stream_executor/cuda/cuda_fft.cc:607] Unable to register cuFFT factory: Attempting to register factory for plugin cuFFT when one has already been registered\n",
            "2024-01-28 21:36:15.365061: E external/local_xla/xla/stream_executor/cuda/cuda_blas.cc:1515] Unable to register cuBLAS factory: Attempting to register factory for plugin cuBLAS when one has already been registered\n",
            "2024-01-28 21:36:16.879520: W tensorflow/compiler/tf2tensorrt/utils/py_utils.cc:38] TF-TRT Warning: Could not find TensorRT\n",
            "Collecting pl-core-news-sm==3.6.0\n",
            "  Downloading https://github.com/explosion/spacy-models/releases/download/pl_core_news_sm-3.6.0/pl_core_news_sm-3.6.0-py3-none-any.whl (20.2 MB)\n",
            "\u001b[2K     \u001b[90m━━━━━━━━━━━━━━━━━━━━━━━━━━━━━━━━━━━━━━━━\u001b[0m \u001b[32m20.2/20.2 MB\u001b[0m \u001b[31m37.9 MB/s\u001b[0m eta \u001b[36m0:00:00\u001b[0m\n",
            "\u001b[?25hRequirement already satisfied: spacy<3.7.0,>=3.6.0 in /usr/local/lib/python3.10/dist-packages (from pl-core-news-sm==3.6.0) (3.6.1)\n",
            "Requirement already satisfied: spacy-legacy<3.1.0,>=3.0.11 in /usr/local/lib/python3.10/dist-packages (from spacy<3.7.0,>=3.6.0->pl-core-news-sm==3.6.0) (3.0.12)\n",
            "Requirement already satisfied: spacy-loggers<2.0.0,>=1.0.0 in /usr/local/lib/python3.10/dist-packages (from spacy<3.7.0,>=3.6.0->pl-core-news-sm==3.6.0) (1.0.5)\n",
            "Requirement already satisfied: murmurhash<1.1.0,>=0.28.0 in /usr/local/lib/python3.10/dist-packages (from spacy<3.7.0,>=3.6.0->pl-core-news-sm==3.6.0) (1.0.10)\n",
            "Requirement already satisfied: cymem<2.1.0,>=2.0.2 in /usr/local/lib/python3.10/dist-packages (from spacy<3.7.0,>=3.6.0->pl-core-news-sm==3.6.0) (2.0.8)\n",
            "Requirement already satisfied: preshed<3.1.0,>=3.0.2 in /usr/local/lib/python3.10/dist-packages (from spacy<3.7.0,>=3.6.0->pl-core-news-sm==3.6.0) (3.0.9)\n",
            "Requirement already satisfied: thinc<8.2.0,>=8.1.8 in /usr/local/lib/python3.10/dist-packages (from spacy<3.7.0,>=3.6.0->pl-core-news-sm==3.6.0) (8.1.12)\n",
            "Requirement already satisfied: wasabi<1.2.0,>=0.9.1 in /usr/local/lib/python3.10/dist-packages (from spacy<3.7.0,>=3.6.0->pl-core-news-sm==3.6.0) (1.1.2)\n",
            "Requirement already satisfied: srsly<3.0.0,>=2.4.3 in /usr/local/lib/python3.10/dist-packages (from spacy<3.7.0,>=3.6.0->pl-core-news-sm==3.6.0) (2.4.8)\n",
            "Requirement already satisfied: catalogue<2.1.0,>=2.0.6 in /usr/local/lib/python3.10/dist-packages (from spacy<3.7.0,>=3.6.0->pl-core-news-sm==3.6.0) (2.0.10)\n",
            "Requirement already satisfied: typer<0.10.0,>=0.3.0 in /usr/local/lib/python3.10/dist-packages (from spacy<3.7.0,>=3.6.0->pl-core-news-sm==3.6.0) (0.9.0)\n",
            "Requirement already satisfied: pathy>=0.10.0 in /usr/local/lib/python3.10/dist-packages (from spacy<3.7.0,>=3.6.0->pl-core-news-sm==3.6.0) (0.11.0)\n",
            "Requirement already satisfied: smart-open<7.0.0,>=5.2.1 in /usr/local/lib/python3.10/dist-packages (from spacy<3.7.0,>=3.6.0->pl-core-news-sm==3.6.0) (6.4.0)\n",
            "Requirement already satisfied: tqdm<5.0.0,>=4.38.0 in /usr/local/lib/python3.10/dist-packages (from spacy<3.7.0,>=3.6.0->pl-core-news-sm==3.6.0) (4.66.1)\n",
            "Requirement already satisfied: numpy>=1.15.0 in /usr/local/lib/python3.10/dist-packages (from spacy<3.7.0,>=3.6.0->pl-core-news-sm==3.6.0) (1.23.5)\n",
            "Requirement already satisfied: requests<3.0.0,>=2.13.0 in /usr/local/lib/python3.10/dist-packages (from spacy<3.7.0,>=3.6.0->pl-core-news-sm==3.6.0) (2.31.0)\n",
            "Requirement already satisfied: pydantic!=1.8,!=1.8.1,<3.0.0,>=1.7.4 in /usr/local/lib/python3.10/dist-packages (from spacy<3.7.0,>=3.6.0->pl-core-news-sm==3.6.0) (1.10.14)\n",
            "Requirement already satisfied: jinja2 in /usr/local/lib/python3.10/dist-packages (from spacy<3.7.0,>=3.6.0->pl-core-news-sm==3.6.0) (3.1.3)\n",
            "Requirement already satisfied: setuptools in /usr/local/lib/python3.10/dist-packages (from spacy<3.7.0,>=3.6.0->pl-core-news-sm==3.6.0) (67.7.2)\n",
            "Requirement already satisfied: packaging>=20.0 in /usr/local/lib/python3.10/dist-packages (from spacy<3.7.0,>=3.6.0->pl-core-news-sm==3.6.0) (23.2)\n",
            "Requirement already satisfied: langcodes<4.0.0,>=3.2.0 in /usr/local/lib/python3.10/dist-packages (from spacy<3.7.0,>=3.6.0->pl-core-news-sm==3.6.0) (3.3.0)\n",
            "Requirement already satisfied: pathlib-abc==0.1.1 in /usr/local/lib/python3.10/dist-packages (from pathy>=0.10.0->spacy<3.7.0,>=3.6.0->pl-core-news-sm==3.6.0) (0.1.1)\n",
            "Requirement already satisfied: typing-extensions>=4.2.0 in /usr/local/lib/python3.10/dist-packages (from pydantic!=1.8,!=1.8.1,<3.0.0,>=1.7.4->spacy<3.7.0,>=3.6.0->pl-core-news-sm==3.6.0) (4.5.0)\n",
            "Requirement already satisfied: charset-normalizer<4,>=2 in /usr/local/lib/python3.10/dist-packages (from requests<3.0.0,>=2.13.0->spacy<3.7.0,>=3.6.0->pl-core-news-sm==3.6.0) (3.3.2)\n",
            "Requirement already satisfied: idna<4,>=2.5 in /usr/local/lib/python3.10/dist-packages (from requests<3.0.0,>=2.13.0->spacy<3.7.0,>=3.6.0->pl-core-news-sm==3.6.0) (3.6)\n",
            "Requirement already satisfied: urllib3<3,>=1.21.1 in /usr/local/lib/python3.10/dist-packages (from requests<3.0.0,>=2.13.0->spacy<3.7.0,>=3.6.0->pl-core-news-sm==3.6.0) (2.0.7)\n",
            "Requirement already satisfied: certifi>=2017.4.17 in /usr/local/lib/python3.10/dist-packages (from requests<3.0.0,>=2.13.0->spacy<3.7.0,>=3.6.0->pl-core-news-sm==3.6.0) (2023.11.17)\n",
            "Requirement already satisfied: blis<0.8.0,>=0.7.8 in /usr/local/lib/python3.10/dist-packages (from thinc<8.2.0,>=8.1.8->spacy<3.7.0,>=3.6.0->pl-core-news-sm==3.6.0) (0.7.11)\n",
            "Requirement already satisfied: confection<1.0.0,>=0.0.1 in /usr/local/lib/python3.10/dist-packages (from thinc<8.2.0,>=8.1.8->spacy<3.7.0,>=3.6.0->pl-core-news-sm==3.6.0) (0.1.4)\n",
            "Requirement already satisfied: click<9.0.0,>=7.1.1 in /usr/local/lib/python3.10/dist-packages (from typer<0.10.0,>=0.3.0->spacy<3.7.0,>=3.6.0->pl-core-news-sm==3.6.0) (8.1.7)\n",
            "Requirement already satisfied: MarkupSafe>=2.0 in /usr/local/lib/python3.10/dist-packages (from jinja2->spacy<3.7.0,>=3.6.0->pl-core-news-sm==3.6.0) (2.1.4)\n",
            "Installing collected packages: pl-core-news-sm\n",
            "Successfully installed pl-core-news-sm-3.6.0\n",
            "\u001b[38;5;2m✔ Download and installation successful\u001b[0m\n",
            "You can now load the package via spacy.load('pl_core_news_sm')\n"
          ]
        }
      ]
    },
    {
      "cell_type": "code",
      "source": [
        "df = pd.read_csv('/content/dane6.csv')\n",
        "nlp = sp.load('pl_core_news_sm')"
      ],
      "metadata": {
        "id": "0UqtlzOCqGKo"
      },
      "execution_count": null,
      "outputs": []
    },
    {
      "cell_type": "code",
      "source": [
        "#Część pierwsza\n",
        "\n",
        "#1\n",
        "df['created_at'] = df['created_at'].str.replace('Mon', 'Poniedziałek') \\\n",
        "    .str.replace('Tue', 'Wtorek') \\\n",
        "    .str.replace('Wed', 'Środa') \\\n",
        "    .str.replace('Thu', 'Czwartek') \\\n",
        "    .str.replace('Fri', 'Piątek') \\\n",
        "    .str.replace('Sat', 'Sobota') \\\n",
        "    .str.replace('Sun', 'Niedziela')\n",
        "\n",
        "#2\n",
        "df['created_at'] = df['created_at'].str.replace('Jan', '01') \\\n",
        "    .str.replace('Feb', '02') \\\n",
        "    .str.replace('Mar', '03') \\\n",
        "    .str.replace('Apr', '04') \\\n",
        "    .str.replace('May', '05') \\\n",
        "    .str.replace('Jun', '06') \\\n",
        "    .str.replace('Jul', '07') \\\n",
        "    .str.replace('Aug', '08') \\\n",
        "    .str.replace('Sep', '09') \\\n",
        "    .str.replace('Oct', '10') \\\n",
        "    .str.replace('Nov', '11') \\\n",
        "    .str.replace('Dec', '12')\n",
        "\n",
        "#3\n",
        "all_tweet_links = df['tweet_url'].tolist()\n",
        "\n",
        "#4\n",
        "urls_without_nan = df.dropna(subset=['urls'])\n",
        "list_of_urls = urls_without_nan['urls'].tolist()\n",
        "\n",
        "#5\n",
        "media_without_na = df.dropna(subset=['media'])\n",
        "list_of_media = media_without_na['media'].tolist()\n",
        "\n",
        "#6\n",
        "stopwords = ['a', 'i', 'to', 'oraz', 'w', 'z', 'na']\n",
        "\n",
        "df_tweets['text'].replace ('stopwords', '')\n",
        "\n",
        "def no_stopwords(text):\n",
        "    doc = nlp(text)\n",
        "    return ' '.join([token.text for token in doc if not token.is_stop])\n",
        "\n",
        "df['text_without_stopwords'] = df['text'].apply(no_stopwords)"
      ],
      "metadata": {
        "id": "2ObZpHNSqxGl"
      },
      "execution_count": null,
      "outputs": []
    },
    {
      "cell_type": "code",
      "source": [
        "#Część druga\n",
        "\n",
        "#1\n",
        "top5_likes = df.nlargest(5, 'favorite_count')\n",
        "top5_likes\n",
        "\n",
        "#2\n",
        "top5_retweets = df.nlargest(5, 'retweet_count')\n",
        "top5_retweets\n",
        "#3\n",
        "niewrażliwe_tweety = df[df['possibly_sensitive'] == True]\n",
        "niewrażliwe_tweety\n",
        "\n",
        "#4\n",
        "df['user_created_at'] = pd.to_datetime(df['user_created_at'], format='%a %b %d %H:%M:%S +0000 %Y')\n",
        "najwcześniejszy_użytkownik = df.loc[df['user_created_at'].idxmin()]\n",
        "nazwa_użytkownika = najwcześniejszy_użytkownik['user_name']\n",
        "nazwa_użytkownika\n",
        "\n",
        "#5\n",
        "najwięcej_followersów = df.nlargest (1,'user_followers_count')\n",
        "najwięcej_followersów\n",
        "\n",
        "#6\n",
        "tweety_zweryfikowanych_użytkowników = df[df['user_verified'] == True]\n",
        "tweety_zweryfikowanych_użytkowników\n",
        "\n",
        "#7\n",
        "df['created_at'] = pd.to_datetime(df['created_at'], format='%a %b %d %H:%M:%S +0000 %Y')\n",
        "df['day_of_week'] = df['created_at'].dt.day_name()\n",
        "naj_dni_tygodnia = df['day_of_week'].mode().values[0]\n",
        "naj_dni_tygodnia"
      ],
      "metadata": {
        "colab": {
          "base_uri": "https://localhost:8080/",
          "height": 35
        },
        "id": "fz-zgYP6_KyN",
        "outputId": "c5782fb8-e035-46ff-e610-fe24d9a11f85"
      },
      "execution_count": null,
      "outputs": [
        {
          "output_type": "execute_result",
          "data": {
            "text/plain": [
              "'Thursday'"
            ],
            "application/vnd.google.colaboratory.intrinsic+json": {
              "type": "string"
            }
          },
          "metadata": {},
          "execution_count": 27
        }
      ]
    },
    {
      "cell_type": "code",
      "source": [
        "#Część trzecia\n",
        "\n",
        "#1 2 i 3\n",
        "\n",
        "persons = []\n",
        "locations = []\n",
        "organizations = []\n",
        "\n",
        "for entity in df['text']:\n",
        "    doc = nlp(entity)\n",
        "    persons_in_row = [ent.text for ent in doc.ents if ent.label_ == 'persName']\n",
        "    locations_in_row = [ent.text for ent in doc.ents if ent.label_ == 'placeName']\n",
        "    organizations_in_row = [ent.text for ent in doc.ents if ent.label_ == 'orgName']\n",
        "\n",
        "    persons.append(persons_in_row)\n",
        "    locations.append(locations_in_row)\n",
        "    organizations.append(organizations_in_row)\n",
        "\n",
        "df['persons'] = persons\n",
        "df['locations'] = locations\n",
        "df['organizations'] = organizations"
      ],
      "metadata": {
        "id": "DG_m8RQRHQ8M",
        "colab": {
          "base_uri": "https://localhost:8080/"
        },
        "outputId": "2b500370-74f6-4616-a941-a37237c55969"
      },
      "execution_count": null,
      "outputs": [
        {
          "output_type": "execute_result",
          "data": {
            "text/plain": [
              "0                       []\n",
              "1                       []\n",
              "2                       []\n",
              "3                       []\n",
              "4                       []\n",
              "               ...        \n",
              "1391                    []\n",
              "1392                    []\n",
              "1393    [Krzesimir Dębski]\n",
              "1394                    []\n",
              "1395                    []\n",
              "Name: persons, Length: 1396, dtype: object"
            ]
          },
          "metadata": {},
          "execution_count": 49
        }
      ]
    },
    {
      "cell_type": "code",
      "source": [
        "df = pd.read_csv('/content/dane6.csv')\n",
        "data = {'created_at': ['Tue Jul 17 17:39:49 +0000 2018',\n",
        "                              'Wed Jul 18 12:20:30 +0000 2018',\n",
        "                              'Thu Jul 19 08:45:15 +0000 2018',\n",
        "                              'Fri Jul 20 22:10:05 +0000 2018',\n",
        "                              'Sat Jul 21 18:30:40 +0000 2018',\n",
        "                              'Sun Jul 22 14:55:22 +0000 2018',\n",
        "                              'Mon Jul 23 09:25:11 +0000 2018']}\n",
        "\n",
        "df['created_at'] = pd.to_datetime(df['created_at'], format='%a %b %d %H:%M:%S +0000 %Y')\n",
        "\n",
        "df.set_index('created_at', inplace=True)\n",
        "\n",
        "plt.figure(figsize=(15, 12))\n",
        "df.resample('D').size().plot(kind='bar', color='red')\n",
        "plt.title('Liczba tweetów na dzień tygodnia')\n",
        "plt.xlabel('Dzień tygodnia')\n",
        "plt.ylabel('Liczba tweetów')\n",
        "plt.xticks(rotation=30)\n",
        "plt.show()"
      ],
      "metadata": {
        "colab": {
          "base_uri": "https://localhost:8080/",
          "height": 1000
        },
        "id": "ZW417iRpRq1I",
        "outputId": "e9786c79-c7f4-45ef-ddd6-76b4e6952110"
      },
      "execution_count": null,
      "outputs": [
        {
          "output_type": "display_data",
          "data": {
            "text/plain": [
              "<Figure size 1500x1200 with 1 Axes>"
            ],
            "image/png": "[encoded data removed]"
          },
          "metadata": {}
        }
      ]
    },
    {
      "cell_type": "code",
      "source": [],
      "metadata": {
        "id": "5OjqVG9QrvlF"
      },
      "execution_count": null,
      "outputs": []
    }
  ]
}